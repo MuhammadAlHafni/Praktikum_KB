{
  "nbformat": 4,
  "nbformat_minor": 0,
  "metadata": {
    "colab": {
      "provenance": []
    },
    "kernelspec": {
      "name": "python3",
      "display_name": "Python 3"
    },
    "language_info": {
      "name": "python"
    }
  },
  "cells": [
    {
      "cell_type": "markdown",
      "source": [
        "# MUHAMMAD AL HAFNI | 2209106119 | POSTTEST 5"
      ],
      "metadata": {
        "id": "tS0tqMSCr1Ve"
      }
    },
    {
      "cell_type": "markdown",
      "source": [
        "## Import Library yang akan digunakan"
      ],
      "metadata": {
        "id": "VB9yr62nr9Eo"
      }
    },
    {
      "cell_type": "code",
      "execution_count": 32,
      "metadata": {
        "id": "bu1GzPU8iwwM"
      },
      "outputs": [],
      "source": [
        "import pandas as pd\n",
        "import tensorflow as tf\n",
        "import matplotlib.pyplot as plt\n",
        "from sklearn.model_selection import train_test_split\n",
        "from sklearn.preprocessing import StandardScaler, LabelEncoder"
      ]
    },
    {
      "cell_type": "markdown",
      "source": [
        "## Menampilkan data pada dataset yang digunakan"
      ],
      "metadata": {
        "id": "_5K9TRAasGod"
      }
    },
    {
      "cell_type": "code",
      "source": [
        "data = pd.read_csv('diabetes_prediction_dataset.csv')\n",
        "data.info()"
      ],
      "metadata": {
        "colab": {
          "base_uri": "https://localhost:8080/"
        },
        "id": "-PQhXWKwi4yt",
        "outputId": "a6be0ce1-8aaa-46a8-bff2-083299032f98"
      },
      "execution_count": 33,
      "outputs": [
        {
          "output_type": "stream",
          "name": "stdout",
          "text": [
            "<class 'pandas.core.frame.DataFrame'>\n",
            "RangeIndex: 100000 entries, 0 to 99999\n",
            "Data columns (total 9 columns):\n",
            " #   Column               Non-Null Count   Dtype  \n",
            "---  ------               --------------   -----  \n",
            " 0   gender               100000 non-null  object \n",
            " 1   age                  100000 non-null  float64\n",
            " 2   hypertension         100000 non-null  int64  \n",
            " 3   heart_disease        100000 non-null  int64  \n",
            " 4   smoking_history      100000 non-null  object \n",
            " 5   bmi                  100000 non-null  float64\n",
            " 6   HbA1c_level          100000 non-null  float64\n",
            " 7   blood_glucose_level  100000 non-null  int64  \n",
            " 8   diabetes             100000 non-null  int64  \n",
            "dtypes: float64(3), int64(4), object(2)\n",
            "memory usage: 6.9+ MB\n"
          ]
        }
      ]
    },
    {
      "cell_type": "markdown",
      "source": [
        "Memisahkan dataset menjadi dua bagian. Variabel X berisi semua kolom dari dataset kecuali kolom 'diabetes', yang berfungsi sebagai fitur (input) untuk model. Sementara itu, variabel y berisi kolom 'diabetes', yang merupakan target (output) yang ingin diprediksi."
      ],
      "metadata": {
        "id": "KS0DhsLysX1m"
      }
    },
    {
      "cell_type": "code",
      "source": [
        "X = data.drop('diabetes', axis=1)\n",
        "y = data['diabetes']"
      ],
      "metadata": {
        "id": "cLnVeWYni9F8"
      },
      "execution_count": 34,
      "outputs": []
    },
    {
      "cell_type": "markdown",
      "source": [
        "Memfilter dan memilih hanya kolom-kolom dalam variabel X yang memiliki tipe data numerik, yaitu float (bilangan desimal) dan int (bilangan bulat)."
      ],
      "metadata": {
        "id": "HasBwB9ltExL"
      }
    },
    {
      "cell_type": "code",
      "source": [
        "X = X.select_dtypes(include=[float, int])"
      ],
      "metadata": {
        "id": "40QmRv5BjM79"
      },
      "execution_count": 35,
      "outputs": []
    },
    {
      "cell_type": "markdown",
      "source": [
        "Menstandarisasi fitur dalam dataset X. Dengan membuat objek StandardScaler, menghitung mean dan deviasi standar untuk setiap fitur. Kemudian, metode fit_transform() mengubah data X sehingga setiap fitur memiliki mean 0 dan deviasi standar 1, menghasilkan X_scaled."
      ],
      "metadata": {
        "id": "W5F7-OpwtSAx"
      }
    },
    {
      "cell_type": "code",
      "source": [
        "scaler = StandardScaler()\n",
        "X_scaled = scaler.fit_transform(X)"
      ],
      "metadata": {
        "id": "hoTJ0xuVjoOc"
      },
      "execution_count": 36,
      "outputs": []
    },
    {
      "cell_type": "markdown",
      "source": [
        "Membagi dataset menjadi data pelatihan dan data pengujian. Fungsi train_test_split() mengambil fitur yang telah distandarisasi (X_scaled) dan label target (y), dengan 30% dari data dialokasikan untuk pengujian dan 70% untuk pelatihan. Parameter random_state=42 memastikan bahwa pembagian data bersifat reproducible, sehingga hasilnya konsisten setiap kali kode dijalankan."
      ],
      "metadata": {
        "id": "Mm1-OSgpt1Br"
      }
    },
    {
      "cell_type": "code",
      "source": [
        "X_train, X_test, y_train, y_test = train_test_split(X_scaled, y, test_size=0.3, random_state=42)"
      ],
      "metadata": {
        "id": "tNi3Mnvajq0E"
      },
      "execution_count": 37,
      "outputs": []
    },
    {
      "cell_type": "markdown",
      "source": [
        "1. tf.keras.layers.Dense(32, activation='relu', input_shape=(X_train.shape[1],)):\n",
        "lapisan dens yang memiliki 32 neuron dan menggunakan fungsi aktivasi ReLU (Rectified Linear Unit). Parameter input_shape menentukan dimensi input, yang diambil dari jumlah fitur dalam data pelatihan (X_train.shape[1]).\n",
        "\n",
        "2. tf.keras.layers.Dense(16, activation='relu'):\n",
        "Lapisan kedua juga merupakan lapisan dens dengan 16 neuron dan fungsi aktivasi ReLU, yang membantu model belajar pola yang lebih kompleks.\n",
        "\n",
        "3. tf.keras.layers.Dropout(0.3):\n",
        "Lapisan dropout ini digunakan untuk mengurangi overfitting dengan menghilangkan 30% dari neuron secara acak selama pelatihan, sehingga model tidak terlalu bergantung pada neuron tertentu.\n",
        "\n",
        "4. tf.keras.layers.Dense(1, activation='sigmoid'):\n",
        "Lapisan terakhir adalah lapisan output yang memiliki satu neuron dan menggunakan fungsi aktivasi sigmoid. Ini cocok untuk klasifikasi biner, di mana outputnya akan berada di antara 0 dan 1, mewakili probabilitas dari kelas positif."
      ],
      "metadata": {
        "id": "SuNXJwVOuUW6"
      }
    },
    {
      "cell_type": "code",
      "source": [
        "model = tf.keras.Sequential([\n",
        "    tf.keras.layers.Dense(32, activation='relu', input_shape=(X_train.shape[1],)),\n",
        "    tf.keras.layers.Dense(16, activation='relu'),\n",
        "    tf.keras.layers.Dropout(0.3),\n",
        "    tf.keras.layers.Dense(1, activation='sigmoid')  # Output layer untuk klasifikasi biner\n",
        "])"
      ],
      "metadata": {
        "colab": {
          "base_uri": "https://localhost:8080/"
        },
        "id": "VpgUzm4mjtuP",
        "outputId": "883b23d2-f2de-49ff-99d0-13dd68a0f0c7"
      },
      "execution_count": 38,
      "outputs": [
        {
          "output_type": "stream",
          "name": "stderr",
          "text": [
            "/usr/local/lib/python3.10/dist-packages/keras/src/layers/core/dense.py:87: UserWarning: Do not pass an `input_shape`/`input_dim` argument to a layer. When using Sequential models, prefer using an `Input(shape)` object as the first layer in the model instead.\n",
            "  super().__init__(activity_regularizer=activity_regularizer, **kwargs)\n"
          ]
        }
      ]
    },
    {
      "cell_type": "markdown",
      "source": [
        " Menampilkan ringkasan arsitektur model jaringan saraf yang telah dibangun."
      ],
      "metadata": {
        "id": "49D9zO1Euy_O"
      }
    },
    {
      "cell_type": "code",
      "source": [
        "model.summary()"
      ],
      "metadata": {
        "colab": {
          "base_uri": "https://localhost:8080/",
          "height": 257
        },
        "id": "SvboAxfpoYFy",
        "outputId": "2ed80642-6167-4e3c-b4df-c08a47500f7a"
      },
      "execution_count": 39,
      "outputs": [
        {
          "output_type": "display_data",
          "data": {
            "text/plain": [
              "\u001b[1mModel: \"sequential_2\"\u001b[0m\n"
            ],
            "text/html": [
              "<pre style=\"white-space:pre;overflow-x:auto;line-height:normal;font-family:Menlo,'DejaVu Sans Mono',consolas,'Courier New',monospace\"><span style=\"font-weight: bold\">Model: \"sequential_2\"</span>\n",
              "</pre>\n"
            ]
          },
          "metadata": {}
        },
        {
          "output_type": "display_data",
          "data": {
            "text/plain": [
              "┏━━━━━━━━━━━━━━━━━━━━━━━━━━━━━━━━━━━━━━┳━━━━━━━━━━━━━━━━━━━━━━━━━━━━━┳━━━━━━━━━━━━━━━━━┓\n",
              "┃\u001b[1m \u001b[0m\u001b[1mLayer (type)                        \u001b[0m\u001b[1m \u001b[0m┃\u001b[1m \u001b[0m\u001b[1mOutput Shape               \u001b[0m\u001b[1m \u001b[0m┃\u001b[1m \u001b[0m\u001b[1m        Param #\u001b[0m\u001b[1m \u001b[0m┃\n",
              "┡━━━━━━━━━━━━━━━━━━━━━━━━━━━━━━━━━━━━━━╇━━━━━━━━━━━━━━━━━━━━━━━━━━━━━╇━━━━━━━━━━━━━━━━━┩\n",
              "│ dense_6 (\u001b[38;5;33mDense\u001b[0m)                      │ (\u001b[38;5;45mNone\u001b[0m, \u001b[38;5;34m32\u001b[0m)                  │             \u001b[38;5;34m224\u001b[0m │\n",
              "├──────────────────────────────────────┼─────────────────────────────┼─────────────────┤\n",
              "│ dense_7 (\u001b[38;5;33mDense\u001b[0m)                      │ (\u001b[38;5;45mNone\u001b[0m, \u001b[38;5;34m16\u001b[0m)                  │             \u001b[38;5;34m528\u001b[0m │\n",
              "├──────────────────────────────────────┼─────────────────────────────┼─────────────────┤\n",
              "│ dropout_1 (\u001b[38;5;33mDropout\u001b[0m)                  │ (\u001b[38;5;45mNone\u001b[0m, \u001b[38;5;34m16\u001b[0m)                  │               \u001b[38;5;34m0\u001b[0m │\n",
              "├──────────────────────────────────────┼─────────────────────────────┼─────────────────┤\n",
              "│ dense_8 (\u001b[38;5;33mDense\u001b[0m)                      │ (\u001b[38;5;45mNone\u001b[0m, \u001b[38;5;34m1\u001b[0m)                   │              \u001b[38;5;34m17\u001b[0m │\n",
              "└──────────────────────────────────────┴─────────────────────────────┴─────────────────┘\n"
            ],
            "text/html": [
              "<pre style=\"white-space:pre;overflow-x:auto;line-height:normal;font-family:Menlo,'DejaVu Sans Mono',consolas,'Courier New',monospace\">┏━━━━━━━━━━━━━━━━━━━━━━━━━━━━━━━━━━━━━━┳━━━━━━━━━━━━━━━━━━━━━━━━━━━━━┳━━━━━━━━━━━━━━━━━┓\n",
              "┃<span style=\"font-weight: bold\"> Layer (type)                         </span>┃<span style=\"font-weight: bold\"> Output Shape                </span>┃<span style=\"font-weight: bold\">         Param # </span>┃\n",
              "┡━━━━━━━━━━━━━━━━━━━━━━━━━━━━━━━━━━━━━━╇━━━━━━━━━━━━━━━━━━━━━━━━━━━━━╇━━━━━━━━━━━━━━━━━┩\n",
              "│ dense_6 (<span style=\"color: #0087ff; text-decoration-color: #0087ff\">Dense</span>)                      │ (<span style=\"color: #00d7ff; text-decoration-color: #00d7ff\">None</span>, <span style=\"color: #00af00; text-decoration-color: #00af00\">32</span>)                  │             <span style=\"color: #00af00; text-decoration-color: #00af00\">224</span> │\n",
              "├──────────────────────────────────────┼─────────────────────────────┼─────────────────┤\n",
              "│ dense_7 (<span style=\"color: #0087ff; text-decoration-color: #0087ff\">Dense</span>)                      │ (<span style=\"color: #00d7ff; text-decoration-color: #00d7ff\">None</span>, <span style=\"color: #00af00; text-decoration-color: #00af00\">16</span>)                  │             <span style=\"color: #00af00; text-decoration-color: #00af00\">528</span> │\n",
              "├──────────────────────────────────────┼─────────────────────────────┼─────────────────┤\n",
              "│ dropout_1 (<span style=\"color: #0087ff; text-decoration-color: #0087ff\">Dropout</span>)                  │ (<span style=\"color: #00d7ff; text-decoration-color: #00d7ff\">None</span>, <span style=\"color: #00af00; text-decoration-color: #00af00\">16</span>)                  │               <span style=\"color: #00af00; text-decoration-color: #00af00\">0</span> │\n",
              "├──────────────────────────────────────┼─────────────────────────────┼─────────────────┤\n",
              "│ dense_8 (<span style=\"color: #0087ff; text-decoration-color: #0087ff\">Dense</span>)                      │ (<span style=\"color: #00d7ff; text-decoration-color: #00d7ff\">None</span>, <span style=\"color: #00af00; text-decoration-color: #00af00\">1</span>)                   │              <span style=\"color: #00af00; text-decoration-color: #00af00\">17</span> │\n",
              "└──────────────────────────────────────┴─────────────────────────────┴─────────────────┘\n",
              "</pre>\n"
            ]
          },
          "metadata": {}
        },
        {
          "output_type": "display_data",
          "data": {
            "text/plain": [
              "\u001b[1m Total params: \u001b[0m\u001b[38;5;34m769\u001b[0m (3.00 KB)\n"
            ],
            "text/html": [
              "<pre style=\"white-space:pre;overflow-x:auto;line-height:normal;font-family:Menlo,'DejaVu Sans Mono',consolas,'Courier New',monospace\"><span style=\"font-weight: bold\"> Total params: </span><span style=\"color: #00af00; text-decoration-color: #00af00\">769</span> (3.00 KB)\n",
              "</pre>\n"
            ]
          },
          "metadata": {}
        },
        {
          "output_type": "display_data",
          "data": {
            "text/plain": [
              "\u001b[1m Trainable params: \u001b[0m\u001b[38;5;34m769\u001b[0m (3.00 KB)\n"
            ],
            "text/html": [
              "<pre style=\"white-space:pre;overflow-x:auto;line-height:normal;font-family:Menlo,'DejaVu Sans Mono',consolas,'Courier New',monospace\"><span style=\"font-weight: bold\"> Trainable params: </span><span style=\"color: #00af00; text-decoration-color: #00af00\">769</span> (3.00 KB)\n",
              "</pre>\n"
            ]
          },
          "metadata": {}
        },
        {
          "output_type": "display_data",
          "data": {
            "text/plain": [
              "\u001b[1m Non-trainable params: \u001b[0m\u001b[38;5;34m0\u001b[0m (0.00 B)\n"
            ],
            "text/html": [
              "<pre style=\"white-space:pre;overflow-x:auto;line-height:normal;font-family:Menlo,'DejaVu Sans Mono',consolas,'Courier New',monospace\"><span style=\"font-weight: bold\"> Non-trainable params: </span><span style=\"color: #00af00; text-decoration-color: #00af00\">0</span> (0.00 B)\n",
              "</pre>\n"
            ]
          },
          "metadata": {}
        }
      ]
    },
    {
      "cell_type": "markdown",
      "source": [
        "Mengonfigurasi model jaringan saraf sebelum pelatihan dimulai. Fungsi loss yang dipilih adalah binary_crossentropy, yang cocok untuk klasifikasi biner, mengukur perbedaan antara probabilitas yang diprediksi dan aktual. Optimizer yang digunakan adalah adam, yang efisien dalam memperbarui bobot selama pelatihan. Selain itu, metrik yang dilacak adalah accuracy, yang menunjukkan proporsi prediksi yang benar."
      ],
      "metadata": {
        "id": "Db3DTwuPvAXH"
      }
    },
    {
      "cell_type": "code",
      "source": [
        "model.compile(\n",
        "    loss='binary_crossentropy',\n",
        "    optimizer='adam',\n",
        "    metrics=['accuracy']\n",
        ")"
      ],
      "metadata": {
        "id": "Yxxe2-4wjyUE"
      },
      "execution_count": 40,
      "outputs": []
    },
    {
      "cell_type": "markdown",
      "source": [
        "Kelas MyCallback merupakan callback kustom yang menghentikan pelatihan jika akurasi validasi mencapai 95% atau lebih, dengan mencetak pesan yang sesuai. Sementara itu, early_stopping adalah callback bawaan yang menghentikan pelatihan jika tidak ada perbaikan dalam akurasi validasi selama 5 epoch berturut-turut, sambil mengembalikan bobot model ke keadaan terbaik yang dicapai. Kedua callback ini bertujuan untuk meningkatkan efisiensi dan efektivitas proses pelatihan dengan mencegah overfitting dan mempercepat konvergensi."
      ],
      "metadata": {
        "id": "TiPfkzqDvRtk"
      }
    },
    {
      "cell_type": "code",
      "source": [
        "class MyCallback(tf.keras.callbacks.Callback):\n",
        "    def on_epoch_end(self, epoch, logs={}):\n",
        "        if(logs.get('val_accuracy') >= 0.95):\n",
        "            print(\"\\nAkurasi validasi telah mencapai > 95%!\")\n",
        "            self.model.stop_training = True\n",
        "\n",
        "callbacks = MyCallback()\n",
        "\n",
        "early_stopping = tf.keras.callbacks.EarlyStopping(\n",
        "    monitor='val_accuracy',\n",
        "    verbose=1,\n",
        "    patience=5,\n",
        "    mode='max',\n",
        "    restore_best_weights=True\n",
        ")\n"
      ],
      "metadata": {
        "id": "PwNdA5hhofbP"
      },
      "execution_count": 41,
      "outputs": []
    },
    {
      "cell_type": "markdown",
      "source": [
        "Melatih model jaringan saraf dengan data pelatihan yang telah disiapkan. Data fitur dan label pelatihan disediakan melalui X_train dan y_train, dengan pelatihan dilakukan selama 50 epoch. Data validasi disertakan dengan validation_data=(X_test, y_test) untuk memantau kinerja model pada data yang tidak terlihat. Parameter verbose=1 mengatur tampilan kemajuan pelatihan, sementara callbacks=[early_stopping, callbacks] mengintegrasikan mekanisme penghentian awal untuk mencegah overfitting. Hasil pelatihan, termasuk metrik dan loss, akan disimpan dalam objek history untuk analisis lebih lanjut."
      ],
      "metadata": {
        "id": "ksRrDBsEves2"
      }
    },
    {
      "cell_type": "code",
      "source": [
        "history = model.fit(\n",
        "    X_train,\n",
        "    y_train,\n",
        "    epochs=50,\n",
        "    validation_data=(X_test, y_test),\n",
        "    verbose=1,\n",
        "    callbacks=[early_stopping, callbacks]\n",
        ")"
      ],
      "metadata": {
        "colab": {
          "base_uri": "https://localhost:8080/"
        },
        "id": "t56-gOs_j0QI",
        "outputId": "1f3b62b9-bcea-4005-f956-f03f89b96235"
      },
      "execution_count": 42,
      "outputs": [
        {
          "output_type": "stream",
          "name": "stdout",
          "text": [
            "Epoch 1/50\n",
            "\u001b[1m2173/2188\u001b[0m \u001b[32m━━━━━━━━━━━━━━━━━━━\u001b[0m\u001b[37m━\u001b[0m \u001b[1m0s\u001b[0m 1ms/step - accuracy: 0.9202 - loss: 0.2278\n",
            "Akurasi validasi telah mencapai > 95%!\n",
            "\u001b[1m2188/2188\u001b[0m \u001b[32m━━━━━━━━━━━━━━━━━━━━\u001b[0m\u001b[37m\u001b[0m \u001b[1m6s\u001b[0m 2ms/step - accuracy: 0.9204 - loss: 0.2273 - val_accuracy: 0.9619 - val_loss: 0.1097\n",
            "Restoring model weights from the end of the best epoch: 1.\n"
          ]
        }
      ]
    },
    {
      "cell_type": "markdown",
      "source": [
        "Mengevaluasi kinerja model pada data uji setelah proses pelatihan. Dengan memanggil metode evaluate, model menghitung nilai loss dan akurasi menggunakan data X_test dan label y_test. Hasil evaluasi ini kemudian dicetak, termasuk nilai loss dan akurasi dalam bentuk desimal melalui print"
      ],
      "metadata": {
        "id": "7vetdCdtvueI"
      }
    },
    {
      "cell_type": "code",
      "source": [
        "score = model.evaluate(X_test, y_test, verbose=0)\n",
        "print(f'Test loss: {score[0]}')\n",
        "print(f'Test accuracy: {score[1]}')\n",
        "print(f'Test loss: {score[0] * 100:.2f}%')\n",
        "print(f'Test accuracy: {score[1] * 100:.2f}%')"
      ],
      "metadata": {
        "colab": {
          "base_uri": "https://localhost:8080/"
        },
        "id": "Ym6q_UFmk-SS",
        "outputId": "38cb0756-472f-4c09-b149-f267ae910ec4"
      },
      "execution_count": 49,
      "outputs": [
        {
          "output_type": "stream",
          "name": "stdout",
          "text": [
            "Test loss: 0.1097424104809761\n",
            "Test accuracy: 0.961899995803833\n",
            "Test loss: 10.97%\n",
            "Test accuracy: 96.19%\n"
          ]
        }
      ]
    },
    {
      "cell_type": "markdown",
      "source": [
        "model.predict(X_test) digunakan untuk mendapatkan probabilitas prediksi dari data uji X_test. Selanjutnya, probabilitas tersebut diubah menjadi prediksi biner dengan menetapkan ambang batas 0,5, di mana nilai lebih besar dari 0,5 dianggap sebagai kelas 1 dan sebaliknya. Hasil prediksi ini kemudian dibandingkan dengan label asli menggunakan classification_report, yang mencetak metrik evaluasi seperti precision, recall, dan f1-score untuk setiap kelas."
      ],
      "metadata": {
        "id": "YW8A2ZU6wF0c"
      }
    },
    {
      "cell_type": "code",
      "source": [
        "from sklearn.metrics import confusion_matrix, classification_report\n",
        "\n",
        "y_pred_prob = model.predict(X_test)\n",
        "y_pred = (y_pred_prob > 0.5).astype(\"int32\")\n",
        "\n",
        "print(classification_report(y_test, y_pred))"
      ],
      "metadata": {
        "colab": {
          "base_uri": "https://localhost:8080/"
        },
        "id": "AMjPSTCrozf6",
        "outputId": "ba428b6e-2de1-4af1-8b10-5bff6947b857"
      },
      "execution_count": 47,
      "outputs": [
        {
          "output_type": "stream",
          "name": "stdout",
          "text": [
            "\u001b[1m938/938\u001b[0m \u001b[32m━━━━━━━━━━━━━━━━━━━━\u001b[0m\u001b[37m\u001b[0m \u001b[1m1s\u001b[0m 1ms/step\n",
            "              precision    recall  f1-score   support\n",
            "\n",
            "           0       0.97      0.99      0.98     27453\n",
            "           1       0.89      0.63      0.74      2547\n",
            "\n",
            "    accuracy                           0.96     30000\n",
            "   macro avg       0.93      0.81      0.86     30000\n",
            "weighted avg       0.96      0.96      0.96     30000\n",
            "\n"
          ]
        }
      ]
    },
    {
      "cell_type": "markdown",
      "source": [
        "Memberikan gambaran yang jelas tentang kinerja model, membantu dalam mengevaluasi apakah model telah memenuhi target akurasi yang ditentukan selama proses pelatihan."
      ],
      "metadata": {
        "id": "RnVVD8w4wW-w"
      }
    },
    {
      "cell_type": "code",
      "source": [
        "print(f'Akurasi Training: {train_accuracy * 100:.2f}%')\n",
        "print(f'Akurasi Validation: {val_accuracy * 100:.2f}%')"
      ],
      "metadata": {
        "colab": {
          "base_uri": "https://localhost:8080/"
        },
        "id": "qZUUtMJAlDxu",
        "outputId": "2d38a963-3ebd-4dc0-da79-1ba2f0cf2352"
      },
      "execution_count": 51,
      "outputs": [
        {
          "output_type": "stream",
          "name": "stdout",
          "text": [
            "Akurasi Training: 97.26%\n",
            "Akurasi Validation: 97.21%\n"
          ]
        }
      ]
    }
  ]
}